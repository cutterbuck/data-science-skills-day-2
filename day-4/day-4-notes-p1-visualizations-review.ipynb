{
 "cells": [
  {
   "cell_type": "markdown",
   "metadata": {},
   "source": [
    "# Plotly Review"
   ]
  },
  {
   "cell_type": "markdown",
   "metadata": {},
   "source": [
    "1) **Hockey statistics**\n",
    "\n",
    "Your mission, should you choose to accept it, is to plot a bar graph of NHL statistics contained in the `'./rangers.csv'` file.  The `x-axis` will be a list of all the New York Rangers players from last season.  The `y-axis` should be a list of each player's respective point total from last season.\n",
    "\n",
    "`rangers_dict` is a dictionary containing all of the relevant information. "
   ]
  },
  {
   "cell_type": "code",
   "execution_count": null,
   "metadata": {},
   "outputs": [],
   "source": [
    "import plotly\n",
    "\n",
    "plotly.offline.init_notebook_mode(connected=True)"
   ]
  },
  {
   "cell_type": "code",
   "execution_count": null,
   "metadata": {},
   "outputs": [],
   "source": [
    "import pandas as pd"
   ]
  },
  {
   "cell_type": "code",
   "execution_count": null,
   "metadata": {},
   "outputs": [],
   "source": [
    "rangers_df = pd.read_csv('../day-3/rangers.csv')"
   ]
  },
  {
   "cell_type": "code",
   "execution_count": null,
   "metadata": {},
   "outputs": [],
   "source": [
    "rangers_dict = rangers_df.to_dict()"
   ]
  },
  {
   "cell_type": "code",
   "execution_count": null,
   "metadata": {},
   "outputs": [],
   "source": [
    "players = list(rangers_dict['Player'].values())\n",
    "points = list(rangers_dict['P'].values())"
   ]
  },
  {
   "cell_type": "code",
   "execution_count": null,
   "metadata": {},
   "outputs": [],
   "source": [
    "cleaned_points = []\n",
    "\n",
    "for stat in points:\n",
    "    if stat == '--':\n",
    "        cleaned_points.append(0)\n",
    "    else:\n",
    "        cleaned_points.append(int(stat))"
   ]
  },
  {
   "cell_type": "code",
   "execution_count": null,
   "metadata": {},
   "outputs": [],
   "source": [
    "points_trace = {'type': 'bar', 'x': players, 'y': cleaned_points}"
   ]
  },
  {
   "cell_type": "code",
   "execution_count": null,
   "metadata": {},
   "outputs": [],
   "source": [
    "plotly.offline.iplot([points_trace])"
   ]
  },
  {
   "cell_type": "markdown",
   "metadata": {},
   "source": [
    "2) How can we plot a bar for goal totals next to each player's point total?"
   ]
  },
  {
   "cell_type": "code",
   "execution_count": null,
   "metadata": {},
   "outputs": [],
   "source": [
    "goals = list(rangers_dict['G'].values())\n",
    "goals"
   ]
  },
  {
   "cell_type": "code",
   "execution_count": null,
   "metadata": {},
   "outputs": [],
   "source": [
    "cleaned_goals = []\n",
    "\n",
    "for goal in goals:\n",
    "    if goal == '--':\n",
    "        cleaned_goals.append(0)\n",
    "    else:\n",
    "        cleaned_goals.append(int(goal))\n",
    "\n",
    "cleaned_goals"
   ]
  },
  {
   "cell_type": "code",
   "execution_count": null,
   "metadata": {},
   "outputs": [],
   "source": [
    "goals_trace = {'type': 'bar', 'x': players, 'y': cleaned_goals, 'name': 'goals'}"
   ]
  },
  {
   "cell_type": "code",
   "execution_count": null,
   "metadata": {},
   "outputs": [],
   "source": [
    "plotly.offline.iplot([goals_trace, points_trace])"
   ]
  },
  {
   "cell_type": "markdown",
   "metadata": {},
   "source": [
    "3) Create a **pie chart** of Rangers players and their respective slices of the team's total goals last season."
   ]
  },
  {
   "cell_type": "code",
   "execution_count": null,
   "metadata": {},
   "outputs": [],
   "source": [
    "pie_trace = {'type': 'pie', 'labels': players, 'values': goals}"
   ]
  },
  {
   "cell_type": "code",
   "execution_count": null,
   "metadata": {},
   "outputs": [],
   "source": [
    "plotly.offline.iplot([pie_trace])"
   ]
  },
  {
   "cell_type": "markdown",
   "metadata": {},
   "source": [
    "4) Plot a histogram for the lyrics from the Beatles song \"Let It Be\". The lyrics are provided for you below:"
   ]
  },
  {
   "cell_type": "code",
   "execution_count": null,
   "metadata": {},
   "outputs": [],
   "source": [
    "lyrics = \"\"\"When I find myself in times of trouble, Mother Mary comes to me\n",
    "Speaking words of wisdom, let it be\n",
    "And in my hour of darkness she is standing right in front of me\n",
    "Speaking words of wisdom, let it be\n",
    "Let it be, let it be, let it be, let it be\n",
    "Whisper words of wisdom, let it be\n",
    "And when the broken hearted people living in the world agree\n",
    "There will be an answer, let it be\n",
    "For though they may be parted, there is still a chance that they will see\n",
    "There will be an answer, let it be\n",
    "Let it be, let it be, let it be, let it be\n",
    "There will be an answer, let it be\n",
    "Let it be, let it be, let it be, let it be\n",
    "Whisper words of wisdom, let it be\n",
    "Let it be, let it be, let it be, let it be\n",
    "Whisper words of wisdom, let it be\n",
    "And when the night is cloudy there is still a light that shines on me\n",
    "Shine until tomorrow, let it be\n",
    "I wake up to the sound of music, Mother Mary comes to me\n",
    "Speaking words of wisdom, let it be\n",
    "Let it be, let it be, let it be, yeah, let it be\n",
    "There will be an answer, let it be\n",
    "Let it be, let it be, let it be, yeah, let it be\n",
    "Whisper words of wisdom, let it be\n",
    "\"\"\""
   ]
  },
  {
   "cell_type": "code",
   "execution_count": 239,
   "metadata": {},
   "outputs": [],
   "source": [
    "words = lyrics.lower().replace('\\n', ' ').replace(',', '')"
   ]
  },
  {
   "cell_type": "code",
   "execution_count": 244,
   "metadata": {},
   "outputs": [],
   "source": [
    "words_list = words.split(' ')\n",
    "clean_words_list = [word for word in words_list if word]"
   ]
  },
  {
   "cell_type": "code",
   "execution_count": 249,
   "metadata": {},
   "outputs": [],
   "source": [
    "unique_words = list(set(clean_words_list))"
   ]
  },
  {
   "cell_type": "code",
   "execution_count": 250,
   "metadata": {
    "scrolled": true
   },
   "outputs": [
    {
     "data": {
      "text/plain": [
       "['whisper',\n",
       " 'people',\n",
       " 'will',\n",
       " 'hour',\n",
       " 'night',\n",
       " 'chance',\n",
       " 'up',\n",
       " 'is',\n",
       " 'standing',\n",
       " 'times',\n",
       " 'words',\n",
       " 'they',\n",
       " 'wisdom',\n",
       " 'yeah',\n",
       " 'let',\n",
       " 'mother',\n",
       " 'darkness',\n",
       " 'she',\n",
       " 'the',\n",
       " 'broken',\n",
       " 'there',\n",
       " 'front',\n",
       " 'world',\n",
       " 'in',\n",
       " 'my',\n",
       " 'shines',\n",
       " 'it',\n",
       " 'for',\n",
       " 'shine',\n",
       " 'an',\n",
       " 'speaking',\n",
       " 'hearted',\n",
       " 'a',\n",
       " 'agree',\n",
       " 'until',\n",
       " 'wake',\n",
       " 'and',\n",
       " 'that',\n",
       " 'trouble',\n",
       " 'i',\n",
       " 'of',\n",
       " 'find',\n",
       " 'may',\n",
       " 'comes',\n",
       " 'though',\n",
       " 'sound',\n",
       " 'tomorrow',\n",
       " 'see',\n",
       " 'myself',\n",
       " 'me',\n",
       " 'cloudy',\n",
       " 'light',\n",
       " 'to',\n",
       " 'on',\n",
       " 'right',\n",
       " 'living',\n",
       " 'answer',\n",
       " 'music',\n",
       " 'still',\n",
       " 'be',\n",
       " 'parted',\n",
       " 'mary',\n",
       " 'when']"
      ]
     },
     "execution_count": 250,
     "metadata": {},
     "output_type": "execute_result"
    }
   ],
   "source": [
    "unique_words"
   ]
  },
  {
   "cell_type": "code",
   "execution_count": 251,
   "metadata": {},
   "outputs": [],
   "source": [
    "histogram = dict.fromkeys(unique_words, 0)"
   ]
  },
  {
   "cell_type": "code",
   "execution_count": 253,
   "metadata": {},
   "outputs": [],
   "source": [
    "for word in clean_words_list:\n",
    "    histogram[word] += 1"
   ]
  },
  {
   "cell_type": "code",
   "execution_count": 259,
   "metadata": {},
   "outputs": [],
   "source": [
    "result = sorted([[value, key] for key, value in histogram.items()], reverse=True)"
   ]
  },
  {
   "cell_type": "code",
   "execution_count": 260,
   "metadata": {},
   "outputs": [],
   "source": [
    "x_values = [el[1] for el in result]\n",
    "y_values = [el[0] for el in result]\n",
    "\n",
    "lyrics_trace = {'type': 'bar', 'x': x_values, 'y': y_values}"
   ]
  },
  {
   "cell_type": "code",
   "execution_count": 261,
   "metadata": {},
   "outputs": [
    {
     "data": {
      "application/vnd.plotly.v1+json": {
       "data": [
        {
         "type": "bar",
         "x": [
          "be",
          "let",
          "it",
          "of",
          "words",
          "wisdom",
          "there",
          "will",
          "whisper",
          "the",
          "me",
          "is",
          "in",
          "answer",
          "an",
          "when",
          "to",
          "speaking",
          "and",
          "yeah",
          "they",
          "that",
          "still",
          "mother",
          "mary",
          "i",
          "comes",
          "a",
          "world",
          "wake",
          "up",
          "until",
          "trouble",
          "tomorrow",
          "times",
          "though",
          "standing",
          "sound",
          "shines",
          "shine",
          "she",
          "see",
          "right",
          "people",
          "parted",
          "on",
          "night",
          "myself",
          "my",
          "music",
          "may",
          "living",
          "light",
          "hour",
          "hearted",
          "front",
          "for",
          "find",
          "darkness",
          "cloudy",
          "chance",
          "broken",
          "agree"
         ],
         "y": [
          82,
          72,
          72,
          22,
          14,
          14,
          12,
          10,
          8,
          8,
          8,
          8,
          8,
          8,
          8,
          6,
          6,
          6,
          6,
          4,
          4,
          4,
          4,
          4,
          4,
          4,
          4,
          4,
          2,
          2,
          2,
          2,
          2,
          2,
          2,
          2,
          2,
          2,
          2,
          2,
          2,
          2,
          2,
          2,
          2,
          2,
          2,
          2,
          2,
          2,
          2,
          2,
          2,
          2,
          2,
          2,
          2,
          2,
          2,
          2,
          2,
          2,
          2
         ]
        }
       ],
       "layout": {}
      },
      "text/html": [
       "<div id=\"e3f711bb-19f8-4f90-a1a8-5f6dcb465db3\" style=\"height: 525px; width: 100%;\" class=\"plotly-graph-div\"></div><script type=\"text/javascript\">require([\"plotly\"], function(Plotly) { window.PLOTLYENV=window.PLOTLYENV || {};window.PLOTLYENV.BASE_URL=\"https://plot.ly\";Plotly.newPlot(\"e3f711bb-19f8-4f90-a1a8-5f6dcb465db3\", [{\"type\": \"bar\", \"x\": [\"be\", \"let\", \"it\", \"of\", \"words\", \"wisdom\", \"there\", \"will\", \"whisper\", \"the\", \"me\", \"is\", \"in\", \"answer\", \"an\", \"when\", \"to\", \"speaking\", \"and\", \"yeah\", \"they\", \"that\", \"still\", \"mother\", \"mary\", \"i\", \"comes\", \"a\", \"world\", \"wake\", \"up\", \"until\", \"trouble\", \"tomorrow\", \"times\", \"though\", \"standing\", \"sound\", \"shines\", \"shine\", \"she\", \"see\", \"right\", \"people\", \"parted\", \"on\", \"night\", \"myself\", \"my\", \"music\", \"may\", \"living\", \"light\", \"hour\", \"hearted\", \"front\", \"for\", \"find\", \"darkness\", \"cloudy\", \"chance\", \"broken\", \"agree\"], \"y\": [82, 72, 72, 22, 14, 14, 12, 10, 8, 8, 8, 8, 8, 8, 8, 6, 6, 6, 6, 4, 4, 4, 4, 4, 4, 4, 4, 4, 2, 2, 2, 2, 2, 2, 2, 2, 2, 2, 2, 2, 2, 2, 2, 2, 2, 2, 2, 2, 2, 2, 2, 2, 2, 2, 2, 2, 2, 2, 2, 2, 2, 2, 2]}], {}, {\"showLink\": true, \"linkText\": \"Export to plot.ly\"})});</script>"
      ],
      "text/vnd.plotly.v1+html": [
       "<div id=\"e3f711bb-19f8-4f90-a1a8-5f6dcb465db3\" style=\"height: 525px; width: 100%;\" class=\"plotly-graph-div\"></div><script type=\"text/javascript\">require([\"plotly\"], function(Plotly) { window.PLOTLYENV=window.PLOTLYENV || {};window.PLOTLYENV.BASE_URL=\"https://plot.ly\";Plotly.newPlot(\"e3f711bb-19f8-4f90-a1a8-5f6dcb465db3\", [{\"type\": \"bar\", \"x\": [\"be\", \"let\", \"it\", \"of\", \"words\", \"wisdom\", \"there\", \"will\", \"whisper\", \"the\", \"me\", \"is\", \"in\", \"answer\", \"an\", \"when\", \"to\", \"speaking\", \"and\", \"yeah\", \"they\", \"that\", \"still\", \"mother\", \"mary\", \"i\", \"comes\", \"a\", \"world\", \"wake\", \"up\", \"until\", \"trouble\", \"tomorrow\", \"times\", \"though\", \"standing\", \"sound\", \"shines\", \"shine\", \"she\", \"see\", \"right\", \"people\", \"parted\", \"on\", \"night\", \"myself\", \"my\", \"music\", \"may\", \"living\", \"light\", \"hour\", \"hearted\", \"front\", \"for\", \"find\", \"darkness\", \"cloudy\", \"chance\", \"broken\", \"agree\"], \"y\": [82, 72, 72, 22, 14, 14, 12, 10, 8, 8, 8, 8, 8, 8, 8, 6, 6, 6, 6, 4, 4, 4, 4, 4, 4, 4, 4, 4, 2, 2, 2, 2, 2, 2, 2, 2, 2, 2, 2, 2, 2, 2, 2, 2, 2, 2, 2, 2, 2, 2, 2, 2, 2, 2, 2, 2, 2, 2, 2, 2, 2, 2, 2]}], {}, {\"showLink\": true, \"linkText\": \"Export to plot.ly\"})});</script>"
      ]
     },
     "metadata": {},
     "output_type": "display_data"
    }
   ],
   "source": [
    "plotly.offline.iplot([lyrics_trace])"
   ]
  },
  {
   "cell_type": "markdown",
   "metadata": {},
   "source": [
    "## Pair Challenge\n",
    "\n",
    "Project Gutenberg has free books online!\n",
    "\n",
    "Your challenge is to analyze Lewis Carroll’s classic book Alice in Wonderland. Create a bar graph of the 25 most common words in the book."
   ]
  },
  {
   "cell_type": "code",
   "execution_count": 130,
   "metadata": {},
   "outputs": [],
   "source": [
    "import requests\n",
    "\n",
    "alice_wonderland = requests.get('https://www.gutenberg.org/files/11/11-0.txt').text"
   ]
  },
  {
   "cell_type": "code",
   "execution_count": 154,
   "metadata": {},
   "outputs": [],
   "source": [
    "words = alice_wonderland.lower().split()"
   ]
  },
  {
   "cell_type": "code",
   "execution_count": 172,
   "metadata": {},
   "outputs": [],
   "source": [
    "import string\n",
    "\n",
    "table = str.maketrans('', '', string.punctuation)\n",
    "cleaned_words = [w.translate(table) for w in words]"
   ]
  },
  {
   "cell_type": "code",
   "execution_count": 174,
   "metadata": {},
   "outputs": [],
   "source": [
    "uniques = list(set(cleaned_words))"
   ]
  },
  {
   "cell_type": "code",
   "execution_count": 176,
   "metadata": {},
   "outputs": [],
   "source": [
    "alice_histo = dict.fromkeys(uniques,0)\n",
    "\n",
    "for word in cleaned_words:\n",
    "    alice_histo[word] += 1"
   ]
  },
  {
   "cell_type": "code",
   "execution_count": 213,
   "metadata": {},
   "outputs": [],
   "source": [
    "result = sorted([[value, key] for key, value in alice_histo.items()], reverse=True)[:25]"
   ]
  },
  {
   "cell_type": "code",
   "execution_count": 214,
   "metadata": {},
   "outputs": [],
   "source": [
    "frequencies = [el[0] for el in result]"
   ]
  },
  {
   "cell_type": "code",
   "execution_count": 215,
   "metadata": {},
   "outputs": [],
   "source": [
    "top_words = [el[1] for el in result]"
   ]
  },
  {
   "cell_type": "code",
   "execution_count": 216,
   "metadata": {},
   "outputs": [],
   "source": [
    "alice_trace = {'type': 'bar', 'x': top_words, 'y': frequencies}"
   ]
  },
  {
   "cell_type": "code",
   "execution_count": 262,
   "metadata": {},
   "outputs": [
    {
     "data": {
      "application/vnd.plotly.v1+json": {
       "data": [
        {
         "type": "bar",
         "x": [
          "the",
          "and",
          "to",
          "a",
          "of",
          "she",
          "it",
          "said",
          "in",
          "alice",
          "you",
          "was",
          "i",
          "as",
          "that",
          "her",
          "with",
          "at",
          "on",
          "all",
          "had",
          "this",
          "for",
          "be",
          "or"
         ],
         "y": [
          1781,
          855,
          790,
          672,
          610,
          533,
          461,
          457,
          416,
          383,
          365,
          352,
          265,
          264,
          249,
          247,
          222,
          220,
          192,
          186,
          177,
          175,
          167,
          158,
          147
         ]
        }
       ],
       "layout": {}
      },
      "text/html": [
       "<div id=\"f691dfbf-30dc-4839-8170-d51066b20a87\" style=\"height: 525px; width: 100%;\" class=\"plotly-graph-div\"></div><script type=\"text/javascript\">require([\"plotly\"], function(Plotly) { window.PLOTLYENV=window.PLOTLYENV || {};window.PLOTLYENV.BASE_URL=\"https://plot.ly\";Plotly.newPlot(\"f691dfbf-30dc-4839-8170-d51066b20a87\", [{\"type\": \"bar\", \"x\": [\"the\", \"and\", \"to\", \"a\", \"of\", \"she\", \"it\", \"said\", \"in\", \"alice\", \"you\", \"was\", \"i\", \"as\", \"that\", \"her\", \"with\", \"at\", \"on\", \"all\", \"had\", \"this\", \"for\", \"be\", \"or\"], \"y\": [1781, 855, 790, 672, 610, 533, 461, 457, 416, 383, 365, 352, 265, 264, 249, 247, 222, 220, 192, 186, 177, 175, 167, 158, 147]}], {}, {\"showLink\": true, \"linkText\": \"Export to plot.ly\"})});</script>"
      ],
      "text/vnd.plotly.v1+html": [
       "<div id=\"f691dfbf-30dc-4839-8170-d51066b20a87\" style=\"height: 525px; width: 100%;\" class=\"plotly-graph-div\"></div><script type=\"text/javascript\">require([\"plotly\"], function(Plotly) { window.PLOTLYENV=window.PLOTLYENV || {};window.PLOTLYENV.BASE_URL=\"https://plot.ly\";Plotly.newPlot(\"f691dfbf-30dc-4839-8170-d51066b20a87\", [{\"type\": \"bar\", \"x\": [\"the\", \"and\", \"to\", \"a\", \"of\", \"she\", \"it\", \"said\", \"in\", \"alice\", \"you\", \"was\", \"i\", \"as\", \"that\", \"her\", \"with\", \"at\", \"on\", \"all\", \"had\", \"this\", \"for\", \"be\", \"or\"], \"y\": [1781, 855, 790, 672, 610, 533, 461, 457, 416, 383, 365, 352, 265, 264, 249, 247, 222, 220, 192, 186, 177, 175, 167, 158, 147]}], {}, {\"showLink\": true, \"linkText\": \"Export to plot.ly\"})});</script>"
      ]
     },
     "metadata": {},
     "output_type": "display_data"
    }
   ],
   "source": [
    "plotly.offline.iplot([alice_trace])"
   ]
  }
 ],
 "metadata": {
  "kernelspec": {
   "display_name": "Python 3",
   "language": "python",
   "name": "python3"
  },
  "language_info": {
   "codemirror_mode": {
    "name": "ipython",
    "version": 3
   },
   "file_extension": ".py",
   "mimetype": "text/x-python",
   "name": "python",
   "nbconvert_exporter": "python",
   "pygments_lexer": "ipython3",
   "version": "3.6.4"
  }
 },
 "nbformat": 4,
 "nbformat_minor": 2
}
