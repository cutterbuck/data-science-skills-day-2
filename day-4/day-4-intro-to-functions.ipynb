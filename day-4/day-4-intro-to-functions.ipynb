{
 "cells": [
  {
   "cell_type": "markdown",
   "metadata": {},
   "source": [
    "# Python Functions"
   ]
  },
  {
   "cell_type": "markdown",
   "metadata": {},
   "source": [
    "### Objectives\n",
    "\n",
    "1. Learn about Python functions and why we use them\n",
    "2. Write functions\n",
    "3. Write functions with arguments\n",
    "4. Understand return values\n",
    "5. Understand scope"
   ]
  },
  {
   "cell_type": "markdown",
   "metadata": {},
   "source": [
    "Say we want to write some code to greet people when they walk into the classroom. We could do something like this when George Costanza walks into the room:"
   ]
  },
  {
   "cell_type": "code",
   "execution_count": 1,
   "metadata": {},
   "outputs": [
    {
     "name": "stdout",
     "output_type": "stream",
     "text": [
      "Hello, George!\n"
     ]
    }
   ],
   "source": [
    "print(\"Hello, George!\")"
   ]
  },
  {
   "cell_type": "markdown",
   "metadata": {},
   "source": [
    "What if Jerry, Elaine, Kramer, Newman, and Susan walked into the room? We would have to repeat ourselves:"
   ]
  },
  {
   "cell_type": "code",
   "execution_count": 3,
   "metadata": {},
   "outputs": [
    {
     "name": "stdout",
     "output_type": "stream",
     "text": [
      "Hello, Jerry!\n",
      "Hello, Elaine!\n",
      "Hello, Kramer!\n",
      "Hello, Newman!\n",
      "Hello, Susan!\n"
     ]
    }
   ],
   "source": [
    "print(\"Hello, Jerry!\")\n",
    "print(\"Hello, Elaine!\")\n",
    "print(\"Hello, Kramer!\")\n",
    "print(\"Hello, Newman!\")\n",
    "print(\"Hello, Susan!\")"
   ]
  },
  {
   "cell_type": "markdown",
   "metadata": {},
   "source": [
    "## Functions\n",
    "\n",
    "You will hear programmers talk about the D.R.Y. principle. Don't Repeat Yourself!\n",
    "\n",
    "Functions add a layer of abstraction so that we don't have to repeat ourselves so often."
   ]
  },
  {
   "cell_type": "code",
   "execution_count": 4,
   "metadata": {},
   "outputs": [],
   "source": [
    "# writing a function\n",
    "\n",
    "def greet():\n",
    "    print('Hello!')\n",
    "#     we can use anything we want inside the body of this function: variables, \n",
    "#     lists, dictionaries, etc."
   ]
  },
  {
   "cell_type": "code",
   "execution_count": 7,
   "metadata": {},
   "outputs": [
    {
     "name": "stdout",
     "output_type": "stream",
     "text": [
      "Hello!\n"
     ]
    }
   ],
   "source": [
    "# calling a function\n",
    "\n",
    "greet()"
   ]
  },
  {
   "cell_type": "markdown",
   "metadata": {},
   "source": [
    "## Arguments\n",
    "\n",
    "We can pass arguments into our functions so that they can be operated on in the body of our functions."
   ]
  },
  {
   "cell_type": "code",
   "execution_count": 17,
   "metadata": {},
   "outputs": [],
   "source": [
    "def individualized_greeting(person):\n",
    "    print('Hello,', person)"
   ]
  },
  {
   "cell_type": "code",
   "execution_count": 18,
   "metadata": {},
   "outputs": [
    {
     "name": "stdout",
     "output_type": "stream",
     "text": [
      "Hello, Jerry\n"
     ]
    }
   ],
   "source": [
    "individualized_greeting('Jerry')"
   ]
  },
  {
   "cell_type": "markdown",
   "metadata": {},
   "source": [
    "We can pass multiple arguments into our functions."
   ]
  },
  {
   "cell_type": "code",
   "execution_count": 14,
   "metadata": {},
   "outputs": [],
   "source": [
    "def customized_greeting(greeting, person):\n",
    "    print(greeting, person)"
   ]
  },
  {
   "cell_type": "code",
   "execution_count": 15,
   "metadata": {},
   "outputs": [
    {
     "name": "stdout",
     "output_type": "stream",
     "text": [
      "Happy Festivus Frank Constanza\n"
     ]
    }
   ],
   "source": [
    "customized_greeting(\"Happy Festivus\", \"Frank Constanza\")"
   ]
  },
  {
   "cell_type": "code",
   "execution_count": 16,
   "metadata": {},
   "outputs": [
    {
     "name": "stdout",
     "output_type": "stream",
     "text": [
      "Suzy Goodbye\n"
     ]
    }
   ],
   "source": [
    "# but ORDER MATTERS!\n",
    "\n",
    "customized_greeting(\"Suzy\", \"Goodbye\")"
   ]
  },
  {
   "cell_type": "markdown",
   "metadata": {},
   "source": [
    "## Return Values\n",
    "\n",
    "Usually we will want our functions to perform some operation on data so we can use this output at a later step.\n",
    "\n",
    "So far we have been printing inside our functions.  If we want to use the data altered within our functions, we need to return it."
   ]
  },
  {
   "cell_type": "code",
   "execution_count": 19,
   "metadata": {},
   "outputs": [],
   "source": [
    "def calculate_age(current_year, year_of_birth):\n",
    "    return current_year - year_of_birth"
   ]
  },
  {
   "cell_type": "code",
   "execution_count": 21,
   "metadata": {},
   "outputs": [
    {
     "data": {
      "text/plain": [
       "30"
      ]
     },
     "execution_count": 21,
     "metadata": {},
     "output_type": "execute_result"
    }
   ],
   "source": [
    "calculate_age(2018, 1988)"
   ]
  },
  {
   "cell_type": "code",
   "execution_count": 22,
   "metadata": {},
   "outputs": [],
   "source": [
    "jake_age = calculate_age(2018, 1988)"
   ]
  },
  {
   "cell_type": "code",
   "execution_count": 23,
   "metadata": {},
   "outputs": [
    {
     "data": {
      "text/plain": [
       "30"
      ]
     },
     "execution_count": 23,
     "metadata": {},
     "output_type": "execute_result"
    }
   ],
   "source": [
    "jake_age"
   ]
  },
  {
   "cell_type": "code",
   "execution_count": 24,
   "metadata": {},
   "outputs": [],
   "source": [
    "def how_long_til_i_retire(age):\n",
    "    if age > 70:\n",
    "        return \"Get on the next flight to Hawaii\"\n",
    "    else:\n",
    "        working_yrs_remaining = 75 - age\n",
    "        return \"You will retire in \" + str(working_yrs_remaining) + \" years\""
   ]
  },
  {
   "cell_type": "code",
   "execution_count": 25,
   "metadata": {},
   "outputs": [
    {
     "data": {
      "text/plain": [
       "'You will retire in 45 years'"
      ]
     },
     "execution_count": 25,
     "metadata": {},
     "output_type": "execute_result"
    }
   ],
   "source": [
    "how_long_til_i_retire(jake_age)"
   ]
  },
  {
   "cell_type": "markdown",
   "metadata": {},
   "source": [
    "## Scope\n",
    "\n",
    "Variables are scoped to the context in which they are defined. \n",
    "\n",
    "If a variable is defined globally, we have access to that variable anywhere in our python file.\n",
    "\n",
    "If a variable is defined locally, or inside the body of a function, we will not be able to access it from outside the function."
   ]
  },
  {
   "cell_type": "code",
   "execution_count": 26,
   "metadata": {},
   "outputs": [],
   "source": [
    "# global variable\n",
    "var1 = \"we can call this w/e we want\""
   ]
  },
  {
   "cell_type": "code",
   "execution_count": 27,
   "metadata": {},
   "outputs": [],
   "source": [
    "# also a global variable\n",
    "if type(var1) == str:\n",
    "    var2 = \"we can also call this w/e we want\""
   ]
  },
  {
   "cell_type": "code",
   "execution_count": 33,
   "metadata": {},
   "outputs": [],
   "source": [
    "def my_function(parameter):\n",
    "    # local variable\n",
    "    var3 = [0,1,2,3]\n",
    "    print(parameter)\n",
    "    print(var3)"
   ]
  },
  {
   "cell_type": "code",
   "execution_count": 29,
   "metadata": {},
   "outputs": [
    {
     "name": "stdout",
     "output_type": "stream",
     "text": [
      "5\n",
      "when will you see me?\n"
     ]
    }
   ],
   "source": [
    "my_function(5)"
   ]
  },
  {
   "cell_type": "code",
   "execution_count": 34,
   "metadata": {},
   "outputs": [
    {
     "name": "stdout",
     "output_type": "stream",
     "text": [
      "we can also call this w/e we want\n"
     ]
    }
   ],
   "source": [
    "# we can still access our global variables\n",
    "\n",
    "# print(var1)\n",
    "print(var2)"
   ]
  },
  {
   "cell_type": "code",
   "execution_count": 32,
   "metadata": {},
   "outputs": [
    {
     "ename": "NameError",
     "evalue": "name 'var3' is not defined",
     "output_type": "error",
     "traceback": [
      "\u001b[0;31m---------------------------------------------------------------------------\u001b[0m",
      "\u001b[0;31mNameError\u001b[0m                                 Traceback (most recent call last)",
      "\u001b[0;32m<ipython-input-32-d3166b75eba1>\u001b[0m in \u001b[0;36m<module>\u001b[0;34m()\u001b[0m\n\u001b[1;32m      3\u001b[0m \u001b[0;34m\u001b[0m\u001b[0m\n\u001b[1;32m      4\u001b[0m \u001b[0;31m# print(parameter)\u001b[0m\u001b[0;34m\u001b[0m\u001b[0;34m\u001b[0m\u001b[0m\n\u001b[0;32m----> 5\u001b[0;31m \u001b[0mprint\u001b[0m\u001b[0;34m(\u001b[0m\u001b[0mvar3\u001b[0m\u001b[0;34m)\u001b[0m\u001b[0;34m\u001b[0m\u001b[0m\n\u001b[0m",
      "\u001b[0;31mNameError\u001b[0m: name 'var3' is not defined"
     ]
    }
   ],
   "source": [
    "# we no longer have access to the local variable, var3\n",
    "# we also can no longer access the argument passed into the function\n",
    "\n",
    "# print(parameter)\n",
    "print(var3)"
   ]
  },
  {
   "cell_type": "markdown",
   "metadata": {},
   "source": [
    "## Pair Challenge\n",
    "\n",
    "1) Write a Python function to multiply all the numbers in a list."
   ]
  },
  {
   "cell_type": "code",
   "execution_count": 45,
   "metadata": {},
   "outputs": [],
   "source": [
    "sample_list = [8, 2, 3, 1, 7]"
   ]
  },
  {
   "cell_type": "code",
   "execution_count": 50,
   "metadata": {},
   "outputs": [
    {
     "data": {
      "text/plain": [
       "'336 burgers'"
      ]
     },
     "execution_count": 50,
     "metadata": {},
     "output_type": "execute_result"
    }
   ],
   "source": [
    "def list_multiplier(numbers, donuts):\n",
    "    product = 1\n",
    "    for num in numbers:\n",
    "        product *= num\n",
    "    return str(product) + donuts\n",
    "\n",
    "list_multiplier(sample_list, ' burgers')"
   ]
  },
  {
   "cell_type": "markdown",
   "metadata": {},
   "source": [
    "2) Rewrite Fizzbuzz, but this time use a function. The function should accept a number as an argument, then return the correct term (\"Fizz\", \"Buzz\", or \"FizzBuzz\")"
   ]
  },
  {
   "cell_type": "code",
   "execution_count": null,
   "metadata": {},
   "outputs": [],
   "source": []
  },
  {
   "cell_type": "code",
   "execution_count": null,
   "metadata": {},
   "outputs": [],
   "source": []
  },
  {
   "cell_type": "markdown",
   "metadata": {},
   "source": [
    "3) Functions would have been very useful when we were cleaning our NY Rangers statistics data. Recall that we needed to repeat ourselves every time we needed to remove \"--\" from a category.\n",
    "\n",
    "Write a function that will accept a category (this will be a list) and ouputs the cleaned version of that category.\n",
    "\n",
    "Finally, choose a category. Clean the category with our new function. Sort the data and plot it with a bar graph."
   ]
  },
  {
   "cell_type": "code",
   "execution_count": null,
   "metadata": {},
   "outputs": [],
   "source": []
  }
 ],
 "metadata": {
  "kernelspec": {
   "display_name": "Python 3",
   "language": "python",
   "name": "python3"
  },
  "language_info": {
   "codemirror_mode": {
    "name": "ipython",
    "version": 3
   },
   "file_extension": ".py",
   "mimetype": "text/x-python",
   "name": "python",
   "nbconvert_exporter": "python",
   "pygments_lexer": "ipython3",
   "version": "3.6.4"
  }
 },
 "nbformat": 4,
 "nbformat_minor": 2
}
